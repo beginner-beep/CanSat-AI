{
 "cells": [
  {
   "cell_type": "code",
   "execution_count": 13,
   "id": "76270843-f9f5-4669-a55f-4239dca4d375",
   "metadata": {},
   "outputs": [],
   "source": [
    "import cv2 as cv2\n",
    "import numpy as np\n",
    "import sys\n",
    "import os"
   ]
  },
  {
   "cell_type": "markdown",
   "id": "c2e27d67-30c8-4dce-99f1-0acccc0c2db1",
   "metadata": {},
   "source": [
    "text tiepen\n",
    "\n",
    "blablabla\n"
   ]
  },
  {
   "cell_type": "code",
   "execution_count": 14,
   "id": "38941dca-74fe-479e-a8a2-9338a0339d87",
   "metadata": {},
   "outputs": [],
   "source": [
    "def load_images_from_folder(folder):\n",
    "    images = []\n",
    "    for filename in os.listdir(folder):\n",
    "        img = cv2.imread(os.path.join(folder,filename))\n",
    "        if img is not None:\n",
    "            images.append(img)\n",
    "    return images\n"
   ]
  },
  {
   "cell_type": "code",
   "execution_count": 15,
   "id": "e44110b2-f91b-4b90-81ba-7420294d97db",
   "metadata": {},
   "outputs": [],
   "source": [
    "images = load_images_from_folder(\"TestImages\")\n",
    "resImages = []\n",
    "for image in images:\n",
    "    resImages.append(image[0:1400, 0:1900])\n",
    "    cv2.imshow(\"Main\", image)\n",
    "    \n",
    "images = resImages\n",
    "\n",
    "lower_green = np.array([0,0, 99])\n",
    "upper_green = np.array([255, 255, 255])\n",
    "##(hMin = 112 , sMin = 0, vMin = 0), (hMax = 179 , sMax = 255, vMax = 255)\n",
    "lower_purple = np.array([113,0, 0])\n",
    "upper_purple = np.array([179, 255, 255])"
   ]
  },
  {
   "cell_type": "code",
   "execution_count": 11,
   "id": "21efc4cb-9231-44a0-b008-05fd2ba926e1",
   "metadata": {},
   "outputs": [],
   "source": [
    "i = i /2"
   ]
  },
  {
   "cell_type": "code",
   "execution_count": null,
   "id": "26c4ac0d-4955-4bcc-a5b4-1ac4b52ad4e8",
   "metadata": {},
   "outputs": [],
   "source": []
  },
  {
   "cell_type": "code",
   "execution_count": null,
   "id": "28d451ee-6110-44e4-8843-ef9c4b86da7e",
   "metadata": {},
   "outputs": [],
   "source": []
  },
  {
   "cell_type": "code",
   "execution_count": null,
   "id": "0f126ada-56a4-441b-8f5b-5f6717eab217",
   "metadata": {},
   "outputs": [],
   "source": []
  }
 ],
 "metadata": {
  "kernelspec": {
   "display_name": "Python 3 (ipykernel)",
   "language": "python",
   "name": "python3"
  },
  "language_info": {
   "codemirror_mode": {
    "name": "ipython",
    "version": 3
   },
   "file_extension": ".py",
   "mimetype": "text/x-python",
   "name": "python",
   "nbconvert_exporter": "python",
   "pygments_lexer": "ipython3",
   "version": "3.13.8"
  }
 },
 "nbformat": 4,
 "nbformat_minor": 5
}
